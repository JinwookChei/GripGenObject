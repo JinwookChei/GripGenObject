{
 "cells": [
  {
   "cell_type": "code",
   "execution_count": null,
   "metadata": {},
   "outputs": [],
   "source": [
    "import matplotlib.pyplot as plt\n",
    "import numpy as np\n",
    "import pandas as pd"
   ]
  },
  {
   "cell_type": "code",
   "execution_count": null,
   "metadata": {},
   "outputs": [],
   "source": [
    "Idle_data = pd.read_csv('..\\HandTrackingData\\IdleData.csv')\n",
    "Idle_data = Idle_data.to_numpy()\n",
    "\n",
    "Pistol_data = pd.read_csv('..\\HandTrackingData\\PistalData.csv')\n",
    "Pistol_data = Pistol_data.to_numpy()\n",
    "\n",
    "Drill_data = pd.read_csv('..\\HandTrackingData\\DrillData.csv')\n",
    "Drill_data = Drill_data.to_numpy()\n",
    "\n",
    "Sword_data = pd.read_csv('..\\HandTrackingData\\SwordData.csv')\n",
    "Sword_data = Sword_data.to_numpy()\n",
    "\n",
    "Dagger_data = pd.read_csv('..\\HandTrackingData\\DaggerData.csv')\n",
    "Dagger_data = Dagger_data.to_numpy()\n",
    "\n",
    "KitchenKnife_data = pd.read_csv('..\\HandTrackingData\\KitchenKnifeData.csv')\n",
    "KitchenKnife_data = KitchenKnife_data.to_numpy()\n",
    "\n",
    "print(Idle_data.shape)\n",
    "print(Pistol_data.shape)\n",
    "print(Drill_data.shape)\n",
    "print(Sword_data.shape)\n",
    "print(Dagger_data.shape)\n",
    "print(KitchenKnife_data.shape)"
   ]
  },
  {
   "cell_type": "code",
   "execution_count": null,
   "metadata": {},
   "outputs": [],
   "source": [
    "Idle_data_Seq= []\n",
    "Pistol_data_Seq = []\n",
    "Drill_data_Seq = []\n",
    "Sword_data_Seq = []\n",
    "Dagger_data_Seq = []\n",
    "KitchenKnife_data_Seq = []\n",
    "\n",
    "\n",
    "Objects = ['Idle','Pistol', 'Drill', 'Sword', 'Dagger', 'KitchenKnife']\n",
    "WindowSize = 80\n",
    "#secs_for_action = 100"
   ]
  },
  {
   "cell_type": "code",
   "execution_count": null,
   "metadata": {},
   "outputs": [],
   "source": [
    "\n",
    "def Create_Sequences(data, window_size):\n",
    "    \"\"\"\n",
    "    주어진 데이터와 윈도우 크기를 기반으로 시퀀스를 생성합니다.\n",
    "\n",
    "    Args:\n",
    "        data (list or np.ndarray): 입력 데이터\n",
    "        window_size (int): 시퀀스의 윈도우 크기\n",
    "\n",
    "    Returns:\n",
    "        np.ndarray: 생성된 시퀀스 배열\n",
    "    \"\"\"\n",
    "    \n",
    "    Sequences = []\n",
    "    for seq in range(len(data) - window_size):\n",
    "        Sequences.append(data[seq:seq + window_size])\n",
    "    return np.array(Sequences)"
   ]
  },
  {
   "cell_type": "code",
   "execution_count": null,
   "metadata": {},
   "outputs": [],
   "source": [
    "Idle_data_Seq = Create_Sequences(Idle_data, WindowSize)\n",
    "Pistol_data_Seq = Create_Sequences(Pistol_data, WindowSize)\n",
    "Drill_data_Seq = Create_Sequences(Drill_data, WindowSize)\n",
    "Sword_data_Seq = Create_Sequences(Sword_data, WindowSize)\n",
    "Dagger_data_Seq = Create_Sequences(Dagger_data, WindowSize)\n",
    "KitchenKnife_data_Seq = Create_Sequences(KitchenKnife_data, WindowSize)"
   ]
  },
  {
   "cell_type": "code",
   "execution_count": null,
   "metadata": {},
   "outputs": [],
   "source": [
    "print(Idle_data_Seq.shape)\n",
    "print(Pistol_data_Seq.shape)\n",
    "print(Drill_data_Seq.shape)\n",
    "print(Sword_data_Seq.shape)\n",
    "print(Dagger_data_Seq.shape)\n",
    "print(KitchenKnife_data_Seq.shape)"
   ]
  },
  {
   "cell_type": "code",
   "execution_count": null,
   "metadata": {},
   "outputs": [],
   "source": [
    "ConcatenatedSeqData = np.concatenate([Idle_data_Seq, Pistol_data_Seq , Drill_data_Seq, Sword_data_Seq, Dagger_data_Seq, KitchenKnife_data_Seq], axis=0)\n",
    "\n",
    "ConcatenatedSeqData.shape"
   ]
  },
  {
   "cell_type": "code",
   "execution_count": null,
   "metadata": {},
   "outputs": [],
   "source": [
    "# 이거 임시로 -2로 둔거, 마지막 데이터 고치면 -1로 바꿔야함.\n",
    "X_data = ConcatenatedSeqData[:, :, :-1]\n",
    "Labels = ConcatenatedSeqData[:, 0, -1]\n",
    "\n",
    "Labels = np.zeros_like(Labels)\n",
    "\n",
    "#print(X_data.shape)\n",
    "#print(X_data)\n",
    "\n",
    "#print(Labels.shape)\n",
    "print(Labels)"
   ]
  },
  {
   "cell_type": "code",
   "execution_count": null,
   "metadata": {},
   "outputs": [],
   "source": [
    "from tensorflow.keras.utils import to_categorical\n",
    "\n",
    "Y_data = to_categorical(Labels, num_classes=len(Objects))\n",
    "\n",
    "print(Y_data)"
   ]
  },
  {
   "cell_type": "code",
   "execution_count": null,
   "metadata": {},
   "outputs": [],
   "source": [
    "from sklearn.model_selection import train_test_split\n",
    "\n",
    "X_data = X_data.astype(np.float32)\n",
    "Y_data = Y_data.astype(np.float32)\n",
    "\n",
    "X_train, X_val, Y_train, Y_val = train_test_split(X_data, Y_data, test_size=0.2, random_state=2024)\n",
    "\n",
    "print(X_train.shape, Y_train.shape)\n",
    "print(X_val.shape, Y_val.shape)"
   ]
  },
  {
   "cell_type": "code",
   "execution_count": null,
   "metadata": {},
   "outputs": [],
   "source": [
    "from tensorflow.keras.models import Sequential\n",
    "from tensorflow.keras.layers import LSTM, Dense\n",
    "\n",
    "model = Sequential([\n",
    "    LSTM(64, activation='relu', input_shape=X_train.shape[1:3]),\n",
    "    Dense(32, activation='relu'),\n",
    "    Dense(len(Objects), activation='softmax')\n",
    "])\n",
    "\n",
    "model.compile(optimizer='adam', loss='categorical_crossentropy', metrics=['acc'])\n",
    "model.summary()"
   ]
  },
  {
   "cell_type": "code",
   "execution_count": null,
   "metadata": {},
   "outputs": [],
   "source": [
    "from tensorflow.keras.callbacks import ModelCheckpoint, ReduceLROnPlateau\n",
    "\n",
    "history = model.fit(\n",
    "    X_train,\n",
    "    Y_train,\n",
    "    validation_data=(X_val, Y_val),\n",
    "    epochs=200,\n",
    "    callbacks=[\n",
    "        ModelCheckpoint('models/model.h5', monitor='val_acc', verbose=1, save_best_only=True, mode='auto'),\n",
    "        ReduceLROnPlateau(monitor='val_acc', factor=0.5, patience=50, verbose=1, mode='auto')\n",
    "    ]\n",
    ")"
   ]
  },
  {
   "cell_type": "code",
   "execution_count": null,
   "metadata": {},
   "outputs": [],
   "source": [
    "import matplotlib.pyplot as plt\n",
    "\n",
    "fig, loss_ax = plt.subplots(figsize=(16, 10))\n",
    "acc_ax = loss_ax.twinx()\n",
    "\n",
    "loss_ax.plot(history.history['loss'], 'y', label='train loss')\n",
    "loss_ax.plot(history.history['val_loss'], 'r', label='val loss')\n",
    "loss_ax.set_xlabel('epoch')\n",
    "loss_ax.set_ylabel('loss')\n",
    "loss_ax.legend(loc='upper left')\n",
    "\n",
    "acc_ax.plot(history.history['acc'], 'b', label='train acc')\n",
    "acc_ax.plot(history.history['val_acc'], 'g', label='val acc')\n",
    "acc_ax.set_ylabel('accuracy')\n",
    "acc_ax.legend(loc='upper left')\n",
    "\n",
    "plt.show()"
   ]
  }
 ],
 "metadata": {
  "kernelspec": {
   "display_name": "GripGenObjEnv",
   "language": "python",
   "name": "python3"
  },
  "language_info": {
   "codemirror_mode": {
    "name": "ipython",
    "version": 3
   },
   "file_extension": ".py",
   "mimetype": "text/x-python",
   "name": "python",
   "nbconvert_exporter": "python",
   "pygments_lexer": "ipython3",
   "version": "3.7.16"
  }
 },
 "nbformat": 4,
 "nbformat_minor": 2
}
