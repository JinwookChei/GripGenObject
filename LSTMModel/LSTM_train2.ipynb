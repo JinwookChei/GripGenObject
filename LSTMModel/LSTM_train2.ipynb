{
 "cells": [
  {
   "cell_type": "code",
   "execution_count": 1,
   "metadata": {},
   "outputs": [],
   "source": [
    "import matplotlib.pyplot as plt\n",
    "import numpy as np\n",
    "import pandas as pd"
   ]
  },
  {
   "cell_type": "code",
   "execution_count": 6,
   "metadata": {},
   "outputs": [
    {
     "name": "stdout",
     "output_type": "stream",
     "text": [
      "(2000, 115)\n",
      "(2000, 115)\n",
      "(2000, 115)\n",
      "(4000, 115)\n",
      "(4000, 115)\n",
      "(4000, 115)\n",
      "(4000, 115)\n",
      "(4000, 115)\n",
      "(4000, 115)\n"
     ]
    }
   ],
   "source": [
    "Idle_data1 = pd.read_csv('..\\HandTrackingData\\Idle1.csv')\n",
    "Idle_data1 = Idle_data1.to_numpy()\n",
    "\n",
    "Idle_data2 = pd.read_csv('..\\HandTrackingData\\Idle2.csv')\n",
    "Idle_data2 = Idle_data2.to_numpy()\n",
    "\n",
    "Idle_data3 = pd.read_csv('..\\HandTrackingData\\Idle3.csv')\n",
    "Idle_data3 = Idle_data3.to_numpy()\n",
    "\n",
    "Bow_data = pd.read_csv('..\\HandTrackingData\\Bow.csv')\n",
    "Bow_data = Bow_data.to_numpy()\n",
    "\n",
    "Sword_data = pd.read_csv('..\\HandTrackingData\\Sword.csv')\n",
    "Sword_data = Sword_data.to_numpy()\n",
    "\n",
    "Pistol_data = pd.read_csv('..\\HandTrackingData\\Pistol.csv')\n",
    "Pistol_data = Pistol_data.to_numpy()\n",
    "\n",
    "MachineGun_data = pd.read_csv('..\\HandTrackingData\\MachineGun.csv')\n",
    "MachineGun_data = MachineGun_data.to_numpy()\n",
    "\n",
    "Spear_data = pd.read_csv('..\\HandTrackingData\\Spear.csv')\n",
    "Spear_data = Spear_data.to_numpy()\n",
    "\n",
    "Granade_data = pd.read_csv('..\\HandTrackingData\\Grenade.csv')\n",
    "Granade_data = Granade_data.to_numpy()\n",
    "\n",
    "print(Idle_data1.shape)\n",
    "print(Idle_data2.shape)\n",
    "print(Idle_data3.shape)\n",
    "print(Bow_data.shape)\n",
    "print(Sword_data.shape)\n",
    "print(Pistol_data.shape)\n",
    "print(MachineGun_data.shape)\n",
    "print(Spear_data.shape)\n",
    "print(Granade_data.shape)"
   ]
  },
  {
   "cell_type": "code",
   "execution_count": 7,
   "metadata": {},
   "outputs": [],
   "source": [
    "Idle_data_Seq = []\n",
    "Bow_data_Seq= []\n",
    "Sword_data_Seq = []\n",
    "Pistol_data_Seq = []\n",
    "MachineGun_data_Seq = []\n",
    "Spear_data_Seq = []\n",
    "Granade_data_Seq = []\n",
    "\n",
    "\n",
    "Objects = ['Idle', 'Bow','Sword', 'Pistol', 'MachineGun', 'Spear', 'Granade']\n",
    "WindowSize = 80"
   ]
  },
  {
   "cell_type": "code",
   "execution_count": 8,
   "metadata": {},
   "outputs": [],
   "source": [
    "\n",
    "def Create_Sequences(data, window_size):\n",
    "    \"\"\"\n",
    "    주어진 데이터와 윈도우 크기를 기반으로 시퀀스를 생성합니다.\n",
    "\n",
    "    Args:\n",
    "        data (list or np.ndarray): 입력 데이터\n",
    "        window_size (int): 시퀀스의 윈도우 크기\n",
    "\n",
    "    Returns:\n",
    "        np.ndarray: 생성된 시퀀스 배열\n",
    "    \"\"\"\n",
    "    \n",
    "    Sequences = []\n",
    "    for seq in range(len(data) - window_size)+1:\n",
    "        Sequences.append(data[seq:seq + window_size])\n",
    "    return np.array(Sequences)"
   ]
  },
  {
   "cell_type": "code",
   "execution_count": 6,
   "metadata": {},
   "outputs": [],
   "source": [
    "Idle_data_Seq = Create_Sequences(Idle_data1, WindowSize)\n",
    "Bow_data_Seq = Create_Sequences(Bow_data, WindowSize)\n",
    "Sword_data_Seq = Create_Sequences(Sword_data, WindowSize)\n",
    "Pistol_data_Seq = Create_Sequences(Pistol_data, WindowSize)\n",
    "MachineGun_data_Seq = Create_Sequences(MachineGun_data, WindowSize)\n",
    "Spear_data_Seq = Create_Sequences(Spear_data, WindowSize)\n",
    "Granade_data_Seq = Create_Sequences(Granade_data, WindowSize)"
   ]
  },
  {
   "cell_type": "code",
   "execution_count": null,
   "metadata": {},
   "outputs": [],
   "source": [
    "print(Bow_data_Seq.shape)\n",
    "print(Sword_data_Seq.shape)\n",
    "print(Pistol_data_Seq.shape)\n",
    "print(MachineGun_data_Seq.shape)\n",
    "print(Spear_data_Seq.shape)\n",
    "print(Granade_data_Seq.shape)"
   ]
  },
  {
   "cell_type": "code",
   "execution_count": null,
   "metadata": {},
   "outputs": [],
   "source": [
    "ConcatenatedSeqData = np.concatenate([Bow_data_Seq, Sword_data_Seq , Pistol_data_Seq, MachineGun_data_Seq, Spear_data_Seq, Granade_data_Seq], axis=0)\n",
    "\n",
    "ConcatenatedSeqData.shape"
   ]
  },
  {
   "cell_type": "code",
   "execution_count": null,
   "metadata": {},
   "outputs": [],
   "source": [
    "X_data = ConcatenatedSeqData[:, :, :-1]\n",
    "Labels = ConcatenatedSeqData[:, 0, -1]\n",
    "\n",
    "print(X_data.shape)\n",
    "print(X_data)\n",
    "\n",
    "print(Labels.shape)\n",
    "print(Labels)"
   ]
  },
  {
   "cell_type": "code",
   "execution_count": null,
   "metadata": {},
   "outputs": [],
   "source": [
    "from tensorflow.keras.utils import to_categorical\n",
    "\n",
    "Y_data = to_categorical(Labels, num_classes=len(Objects))\n",
    "\n",
    "print(Y_data)"
   ]
  },
  {
   "cell_type": "code",
   "execution_count": null,
   "metadata": {},
   "outputs": [],
   "source": [
    "from sklearn.model_selection import train_test_split\n",
    "\n",
    "X_data = X_data.astype(np.float32)\n",
    "Y_data = Y_data.astype(np.float32)\n",
    "\n",
    "X_train, X_val, Y_train, Y_val = train_test_split(X_data, Y_data, test_size=0.2, random_state=2024)\n",
    "\n",
    "print(X_train.shape, Y_train.shape)\n",
    "print(X_val.shape, Y_val.shape)"
   ]
  },
  {
   "cell_type": "code",
   "execution_count": null,
   "metadata": {},
   "outputs": [],
   "source": [
    "from tensorflow.keras.models import Sequential\n",
    "from tensorflow.keras.layers import LSTM, Dense\n",
    "\n",
    "model = Sequential([\n",
    "    LSTM(64, activation='tanh', input_shape=X_train.shape[1:3]),\n",
    "    Dense(32, activation='tanh'),\n",
    "    Dense(len(Objects), activation='softmax')\n",
    "])\n",
    "\n",
    "model.compile(optimizer='adam', loss='categorical_crossentropy', metrics=['acc'])\n",
    "model.summary()"
   ]
  },
  {
   "cell_type": "code",
   "execution_count": null,
   "metadata": {},
   "outputs": [],
   "source": [
    "from tensorflow.keras.callbacks import ModelCheckpoint, ReduceLROnPlateau\n",
    "\n",
    "history = model.fit(\n",
    "    X_train,\n",
    "    Y_train,\n",
    "    validation_data=(X_val, Y_val),\n",
    "    epochs=100,\n",
    "    callbacks=[\n",
    "        ModelCheckpoint('models/model6.h5', monitor='val_acc', verbose=1, save_best_only=True, mode='auto'),\n",
    "        ReduceLROnPlateau(monitor='val_acc', factor=0.5, patience=50, verbose=1, mode='auto')\n",
    "    ]\n",
    ")"
   ]
  },
  {
   "cell_type": "code",
   "execution_count": null,
   "metadata": {},
   "outputs": [],
   "source": [
    "import matplotlib.pyplot as plt\n",
    "\n",
    "fig, loss_ax = plt.subplots(figsize=(16, 10))\n",
    "acc_ax = loss_ax.twinx()\n",
    "\n",
    "loss_ax.plot(history.history['loss'], 'y', label='train loss')\n",
    "loss_ax.plot(history.history['val_loss'], 'r', label='val loss')\n",
    "loss_ax.set_xlabel('epoch')\n",
    "loss_ax.set_ylabel('loss')\n",
    "loss_ax.legend(loc='upper left')\n",
    "\n",
    "acc_ax.plot(history.history['acc'], 'b', label='train acc')\n",
    "acc_ax.plot(history.history['val_acc'], 'g', label='val acc')\n",
    "acc_ax.set_ylabel('accuracy')\n",
    "acc_ax.legend(loc='upper left')\n",
    "\n",
    "plt.show()"
   ]
  },
  {
   "cell_type": "code",
   "execution_count": null,
   "metadata": {},
   "outputs": [],
   "source": [
    "import tensorflow as tf\n",
    "\n",
    "# .h5 모델 로드\n",
    "h5_model_path = \"models\\model6.h5\"\n",
    "saved_model_path = \"models\\model6_tf\"\n",
    "\n",
    "model = tf.keras.models.load_model(h5_model_path)\n",
    "\n",
    "# SavedModel 형식으로 저장\n",
    "tf.saved_model.save(model, saved_model_path)\n",
    "\n",
    "print(f\"SavedModel saved at: {saved_model_path}\")\n",
    "\n",
    "#tf python -m tf2onnx.convert --saved-model C:\\Project\\saved_model --output C:\\Project\\model2.onnx\n",
    "#python -m tf2onnx.convert --saved-model tensorflow-model-path --output model.onnx\n",
    "#python -m tf2onnx.convert --input model3.h5 --output model33.onnx\n",
    "#python -m tf2onnx.convert --saved-model path/to/saved_model --output model.onnx --input-shape \"1,80,138\""
   ]
  },
  {
   "cell_type": "code",
   "execution_count": null,
   "metadata": {},
   "outputs": [],
   "source": [
    "import tf2onnx\n",
    "import tensorflow as tf\n",
    "\n",
    "# TensorFlow SavedModel 경로 및 변환된 ONNX 모델 저장 경로\n",
    "saved_model_path = \"models\\model6.h5\"\n",
    "onnx_model_path = \"models\\model6.onnx\"\n",
    "\n",
    "# 변환에 사용할 입력 shape\n",
    "input_signature = [tf.TensorSpec([1, 80, 114], tf.float32, name=\"input\")]\n",
    "\n",
    "# SavedModel 로드\n",
    "model = tf.keras.models.load_model(saved_model_path)\n",
    "\n",
    "# ONNX로 변환\n",
    "offset = 0\n",
    "onnx_model, _ = tf2onnx.convert.from_keras(\n",
    "    model,\n",
    "    input_signature=input_signature,\n",
    "    opset=13  # ONNX opset 버전 지정 (13은 일반적으로 사용되는 버전)\n",
    ")\n",
    "\n",
    "# ONNX 모델 저장\n",
    "with open(onnx_model_path, \"wb\") as f:\n",
    "    f.write(onnx_model.SerializeToString())\n",
    "\n",
    "print(f\"ONNX model saved at: {onnx_model_path}\")"
   ]
  },
  {
   "cell_type": "code",
   "execution_count": null,
   "metadata": {},
   "outputs": [],
   "source": [
    "import onnx\n",
    "\n",
    "# onnx 파일 구조 파악.\n",
    "onnx_model = onnx.load(\"models\\model6.onnx\")\n",
    "onnx.checker.check_model(onnx_model)\n",
    "\n",
    "print(onnx.helper.printable_graph(onnx_model.graph))"
   ]
  }
 ],
 "metadata": {
  "kernelspec": {
   "display_name": "myenv",
   "language": "python",
   "name": "python3"
  },
  "language_info": {
   "codemirror_mode": {
    "name": "ipython",
    "version": 3
   },
   "file_extension": ".py",
   "mimetype": "text/x-python",
   "name": "python",
   "nbconvert_exporter": "python",
   "pygments_lexer": "ipython3",
   "version": "3.9.15"
  }
 },
 "nbformat": 4,
 "nbformat_minor": 2
}
